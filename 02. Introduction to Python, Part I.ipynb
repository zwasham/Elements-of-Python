{
 "cells": [
  {
   "cell_type": "markdown",
   "metadata": {},
   "source": [
    "# Introduction to Python\n",
    "---"
   ]
  },
  {
   "cell_type": "markdown",
   "metadata": {},
   "source": [
    "### [Section Introduction]\n",
    "\n",
    "*(The purpose of this introduction is to point out the meaning of the particular elements introduced in this section. I do not want students to merely memorize elements. I want them to form meaningful connections between these elements and Python as a whole.)*\n",
    "\n",
    "Python is the language-like interface of a logical operation processing machine.\n",
    "\n",
    "Before a logical operation can be processed, it must first be defined.\n",
    "\n",
    "Logical operations are composed of operands and operators (with the possible addition of grouping symbols).\n",
    "\n",
    "Writing computer code is defining logical operations to be processed.\n",
    "\n",
    "Users require two kinds of knowledge to use Python to define logical operations.\n",
    "\n",
    "First, we need to know the [operating] [functional] components (the \"operations\"?) (the \"component operations\"?) provided by the Python machine which can be assembled into logical operations which can be processed by the Python machine.\n",
    "\n",
    "Second, we need to know the symbols, names, and syntactic patterns associated with those component operations so that we can define their [assembly] [combination] in a way that the interpreter can recognize (and execute).\n",
    "\n",
    "Below, as we begin performing arithmetic, we are defining logical operations composed of operands and operators for the computer to execute. \n",
    "\n",
    "(Each operator is a symbol which is associated with some underlying implementation. These operators are part of the Python interface.)\n",
    "\n",
    "---"
   ]
  },
  {
   "cell_type": "markdown",
   "metadata": {},
   "source": [
    "*Note to Self*:\n",
    "\n",
    "*In the Jupyter Notebook tutorial, students encountered comments, basic arithmetic (2 + 2 with an integer output and 10 / 4 with a float output), variable assignment (x, y, and first_name, a descriptive variable name in snake case), the print() function (and arguments), and strings (including both single- and double-quote notation, a single quote used inside a string delimited by double quotes, an f-string, and newline notation (\\n), an example of using the backslash to trigger the secondary function of a symbol).*"
   ]
  },
  {
   "cell_type": "markdown",
   "metadata": {},
   "source": [
    "---"
   ]
  },
  {
   "cell_type": "markdown",
   "metadata": {},
   "source": [
    "### Recovering Your Notebook\n",
    "\n",
    "[This may be the right place to have students break their notebook and start from a fresh template.]"
   ]
  },
  {
   "cell_type": "markdown",
   "metadata": {},
   "source": [
    "### Arithmetic Operators\n",
    "| Operator  | Name            | Example           |\n",
    "| :-------: | :-------:       | :---------------: |\n",
    "| +         | Addition        | 2 + 2 returns 4   |\n",
    "| -         | Subtraction     | 4 - 2 returns 2   |\n",
    "| *         | Multiplication  | 2 * 3 returns 6   |\n",
    "| /         | Division        | 7 / 2 returns 3.5 |\n",
    "| //        | Floor Division  | 7 // 2 returns 3  |\n",
    "| %         | Modulus         | 7 % 2 returns 1   |\n",
    "| **        | Exponentiation  | 3 ** 3 returns 27 |"
   ]
  },
  {
   "cell_type": "code",
   "execution_count": 33,
   "metadata": {},
   "outputs": [
    {
     "data": {
      "text/plain": [
       "4"
      ]
     },
     "execution_count": 33,
     "metadata": {},
     "output_type": "execute_result"
    }
   ],
   "source": [
    "# Highlight the unfamiliar operators (floor division and modulus) and notation (exponentiation).\n",
    "# Try for yourself here.\n",
    "\n",
    "2 + 2"
   ]
  },
  {
   "cell_type": "code",
   "execution_count": null,
   "metadata": {},
   "outputs": [],
   "source": [
    "# Demonstrate that only the result of the last line is displayed.\n",
    "# Use the print function to display the results of multiple expressions.\n",
    "# Define the term \"expression\".\n",
    "# Define the term \"argument\".\n",
    "# I could demonstrate that the print function can receive multiple arguments delimited by commas.\n",
    "# I could demonstrate keyword arguments using sep. \n",
    "# I could demonstrate using help() on print.\n",
    "\n",
    "1 + 1\n",
    "2 + 2"
   ]
  },
  {
   "cell_type": "code",
   "execution_count": 36,
   "metadata": {},
   "outputs": [
    {
     "name": "stdout",
     "output_type": "stream",
     "text": [
      "Help on built-in function print in module builtins:\n",
      "\n",
      "print(...)\n",
      "    print(value, ..., sep=' ', end='\\n', file=sys.stdout, flush=False)\n",
      "    \n",
      "    Prints the values to a stream, or to sys.stdout by default.\n",
      "    Optional keyword arguments:\n",
      "    file:  a file-like object (stream); defaults to the current sys.stdout.\n",
      "    sep:   string inserted between values, default a space.\n",
      "    end:   string appended after the last value, default a newline.\n",
      "    flush: whether to forcibly flush the stream.\n",
      "\n"
     ]
    }
   ],
   "source": [
    "help(print)"
   ]
  },
  {
   "cell_type": "code",
   "execution_count": 21,
   "metadata": {},
   "outputs": [
    {
     "ename": "TypeError",
     "evalue": "unsupported operand type(s) for +: 'int' and 'builtin_function_or_method'",
     "output_type": "error",
     "traceback": [
      "\u001b[0;31m---------------------------------------------------------------------------\u001b[0m",
      "\u001b[0;31mTypeError\u001b[0m                                 Traceback (most recent call last)",
      "Cell \u001b[0;32mIn[21], line 3\u001b[0m\n\u001b[1;32m      1\u001b[0m \u001b[38;5;66;03m# Introduce the type() function, integers, and floats\u001b[39;00m\n\u001b[0;32m----> 3\u001b[0m \u001b[38;5;241;43m2\u001b[39;49m\u001b[43m \u001b[49m\u001b[38;5;241;43m+\u001b[39;49m\u001b[43m \u001b[49m\u001b[38;5;28;43mprint\u001b[39;49m\n",
      "\u001b[0;31mTypeError\u001b[0m: unsupported operand type(s) for +: 'int' and 'builtin_function_or_method'"
     ]
    }
   ],
   "source": [
    "# Introduce the type() function, integers, and floats\n",
    "# Demonstrate that operations only work on a limited set of object types.\n",
    "\n",
    "2 + print"
   ]
  },
  {
   "cell_type": "markdown",
   "metadata": {},
   "source": [
    "### Comparison Operators\n",
    "| Operator  | Name                     | Example              |\n",
    "| :-------: | :----------------------: | :------------------: |\n",
    "| ==        | Equal to                 | 2 == 2 returns True  |\n",
    "| !=        | Not equal to             | 4 != 2 returns True  |\n",
    "| >         | Greater than             | 2 > 3 returns False  |\n",
    "| >=        | Greater than or equal to | 4 >= 2 returns True  |\n",
    "| <         | Less than                | 7 < 2 returns False  |\n",
    "| <=        | Less than or equal to    | 8 <= 8 returns True  |"
   ]
  },
  {
   "cell_type": "markdown",
   "metadata": {},
   "source": [
    "[combine with and, or, and not]\n",
    "\n",
    "[Explain (or at least preview) keywords]"
   ]
  },
  {
   "cell_type": "markdown",
   "metadata": {},
   "source": [
    "[After introducing lists, introduce the membership operator, 'in'.]"
   ]
  },
  {
   "cell_type": "markdown",
   "metadata": {},
   "source": [
    "[next, assignment, including augmented assignment and multiple assignment]\n",
    "\n",
    "[Then, demonstrate that new values cannot be assigned to keywords]"
   ]
  },
  {
   "cell_type": "markdown",
   "metadata": {},
   "source": []
  }
 ],
 "metadata": {
  "kernelspec": {
   "display_name": "Python 3",
   "language": "python",
   "name": "python3"
  },
  "language_info": {
   "codemirror_mode": {
    "name": "ipython",
    "version": 3
   },
   "file_extension": ".py",
   "mimetype": "text/x-python",
   "name": "python",
   "nbconvert_exporter": "python",
   "pygments_lexer": "ipython3",
   "version": "3.10.13"
  }
 },
 "nbformat": 4,
 "nbformat_minor": 2
}
