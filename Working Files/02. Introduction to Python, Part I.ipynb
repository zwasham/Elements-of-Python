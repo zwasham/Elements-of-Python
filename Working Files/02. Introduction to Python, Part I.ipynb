{
 "cells": [
  {
   "cell_type": "markdown",
   "metadata": {},
   "source": [
    "# **[Introduction to Python, Part I] [Rename?]**\n",
    "---"
   ]
  },
  {
   "cell_type": "markdown",
   "metadata": {},
   "source": [
    "*Note to Self*:\n",
    "\n",
    "*In the Jupyter Notebook tutorial, students encountered comments, basic arithmetic (2 + 2 with an integer output and 10 / 4 with a float output), variable assignment (x, y, and first_name, a descriptive variable name in snake case), the print() function (and arguments), and strings (including both single- and double-quote notation, a single quote used inside a string delimited by double quotes, an f-string, and newline notation (\\n), an example of using the backslash to trigger the secondary function of a symbol).*"
   ]
  },
  {
   "cell_type": "markdown",
   "metadata": {},
   "source": [
    "---"
   ]
  },
  {
   "cell_type": "markdown",
   "metadata": {},
   "source": [
    "## **The Three Elements of Logical Operations**\n",
    "\n",
    "As we have discussed, Python is the language-like interface of a logical operation processing machine. The purpose of this class is to teach you the basics of using this interface to operate that machine.\n",
    "\n",
    "Before a logical operation can be processed, it must first be defined. This is the work of programming - writing computer code <ins>is</ins> defining logical operations to be processed. Therefore, as you learn about the elements of Python, it will be useful for you to keep in mind the elements of a logical operation.\n",
    "\n",
    "Logical operations are composed of *operands* and *operators* (with the possible addition of *grouping symbols*). Operands represent values subjected to transformation, and operators represent kinds of transformations. Consider:\n",
    "\n",
    "`2 + 4`\n",
    "\n",
    "This logical operation begins with a value of `2`. Then, the `+` operator determines the kind of transformation (addition) which is applied to the `2`, and the `4` indicates the magnitude of the transformation.\n",
    "\n",
    "Logical operations are processed in a conventional order. Consider:\n",
    "\n",
    "`2 + 4 / 6`\n",
    "\n",
    "In this case, the conventional order of operations directs us to divide `4` by `6` before adding the result to `2`.\n",
    "\n",
    "Grouping symbols modify the order of operations. Consider:\n",
    "\n",
    "`(2 + 4) / 6`\n",
    "\n",
    "This example contains the same operands and operators as the prior example, but the parentheses change the order in which the operation is processed, producing a different result.\n",
    "\n",
    "The Python programming language allows you to define logical operations that are much more complex than these examples. However, it seems to me that every part of Python - maybe any computer programming language - aims to define an operand, an operator, or the right order of operations. I expect that keeping these three categories in mind will help you to mentally organize and remember Python's many parts.\n",
    "\n",
    "This is a relatively new idea for me and the first time I am sharing it in a class, so if you spot an exception, please let me know so that I can refine my understanding.\n",
    "\n",
    "<br>\n",
    "\n",
    "---"
   ]
  },
  {
   "cell_type": "markdown",
   "metadata": {},
   "source": [
    "## **Restoring Your Notebook**\n",
    "\n",
    "Experimenting with code will help you to become familiar with Python and its parts. It is normal to feel cautious when coding for the first time, but if you are afraid of breaking things, you will experiment less than you would without this concern. Therefore, to help you to feel more comfortable with experimentation, we have made it easy for you to save checkpoints and, if necessary, restart from scratch.\n",
    "\n",
    "To save a new checkpoint based on your current working file, click on the three bars in the top left corner of this window. Then, navigate to File > Save As. When prompted, change your file name (for example, by adding \"_v1\" to the end). Then, by clicking on the two dots under the file name, navigate to the Checkpoints folder, and then click the OK button. Finally, close your checkpoint file and reopen your working file.\n",
    "\n",
    "**Try adding your name and today's date in the cell below. Then, save a checkpoint and reopen this file.**"
   ]
  },
  {
   "cell_type": "markdown",
   "metadata": {},
   "source": [
    "| Name               | Date               |\n",
    "| :----------------: | :----------------: |\n",
    "| [Your Name]        | [Today's Date]     |"
   ]
  },
  {
   "cell_type": "markdown",
   "metadata": {},
   "source": [
    "**Now, complete the following steps:**\n",
    "1. Rearrange 3 cells in this notebook.\n",
    "2. Type gibberish in three more cells, executing each of them. \n",
    "3. Delete 3 cells. \n",
    "4. Convert 3 Code cells into Markdown cells and 3 Markdown cells into Code cells.\n",
    "\n",
    "**Finally, use your checkpoint to save over this notebook.**"
   ]
  },
  {
   "cell_type": "markdown",
   "metadata": {},
   "source": [
    "You can find a fresh copy of each notebook (ending in \"_v0\") in the Checkpoints folder. If you want to start over in a certain notebook but did not create your own checkpoint, open the corresponding v0 and save a copy in the Working Files folder.\n",
    "\n",
    "You will also find final, completed versions of each notebook (ending in \"_vF\") in the Checkpoints folder.\n",
    "\n",
    "If you accidentally delete a v0, a vF, or the whole Checkpoints folder, you can create a fresh GitHub repository from the PyFi template by going to https://github.com/zwasham/Introduction-to-Python **[UPDATE LINK]** and clicking Use this template > Create a new repository.\n",
    "\n",
    "<br>"
   ]
  },
  {
   "cell_type": "markdown",
   "metadata": {},
   "source": [
    "---"
   ]
  },
  {
   "cell_type": "markdown",
   "metadata": {},
   "source": [
    "## **Comments**\n",
    "\n",
    "In the Jupyter Notebook tutorial, you saw comments written in code cells after the `#` symbol, like this:"
   ]
  },
  {
   "cell_type": "code",
   "execution_count": null,
   "metadata": {},
   "outputs": [],
   "source": [
    "# This is a comment."
   ]
  },
  {
   "cell_type": "markdown",
   "metadata": {},
   "source": [
    "The Python interpreter will ignore all symbols to the right of the `#` symbol on a single line."
   ]
  },
  {
   "cell_type": "code",
   "execution_count": null,
   "metadata": {},
   "outputs": [],
   "source": [
    "# That means that you can write comments on their own line...\n",
    "\n",
    "print('Test')       # ...or to the right of code that you want to execute."
   ]
  },
  {
   "cell_type": "markdown",
   "metadata": {},
   "source": [
    "A common best practice is clearly explaining (\"documenting\") code using comments throughout each project (even if only to remind yourself in the future).\n",
    "\n",
    "<br>"
   ]
  },
  {
   "cell_type": "markdown",
   "metadata": {},
   "source": [
    "---"
   ]
  },
  {
   "cell_type": "markdown",
   "metadata": {},
   "source": [
    "## **Operators**\n",
    "\n",
    "#### <ins>Arithmetic Operators</ins>"
   ]
  },
  {
   "cell_type": "markdown",
   "metadata": {},
   "source": [
    "| Operator | Name            | Example           |\n",
    "| :------: | :-------------: | :---------------: |\n",
    "| +        | Addition        | 2 + 2 returns 4   |\n",
    "| -        | Subtraction     | 4 - 2 returns 2   |\n",
    "| *        | Multiplication  | 2 * 3 returns 6   |\n",
    "| /        | Division        | 7 / 2 returns 3.5 |\n",
    "| //       | Floor Division  | 7 // 2 returns 3  |\n",
    "| %        | Modulus         | 7 % 2 returns 1   |\n",
    "| **       | Exponentiation  | 3 ** 3 returns 27 |"
   ]
  },
  {
   "cell_type": "markdown",
   "metadata": {},
   "source": [
    "Floor division and modulus might be new for you. Note that, unlike Excel, Python uses `**` as the symbol for exponentiation."
   ]
  },
  {
   "cell_type": "code",
   "execution_count": null,
   "metadata": {},
   "outputs": [],
   "source": [
    "# Try for yourself here.\n",
    "\n",
    "2 + 2                   # Syntactically, this is called an expression statement."
   ]
  },
  {
   "cell_type": "markdown",
   "metadata": {},
   "source": [
    "Python evaluates arithmetic expressions according to the conventional order of operations."
   ]
  },
  {
   "cell_type": "code",
   "execution_count": null,
   "metadata": {},
   "outputs": [],
   "source": [
    "18 - 3**(1 + 1) * 2"
   ]
  },
  {
   "cell_type": "markdown",
   "metadata": {},
   "source": [
    "If you execute multiple calculations in a single cell, only the result of the last line will appear as an output."
   ]
  },
  {
   "cell_type": "code",
   "execution_count": null,
   "metadata": {},
   "outputs": [],
   "source": [
    "1 + 1\n",
    "2 + 2"
   ]
  },
  {
   "cell_type": "markdown",
   "metadata": {},
   "source": [
    "You can use the `print()` function to explicitly command Python to display the result of any expression."
   ]
  },
  {
   "cell_type": "code",
   "execution_count": null,
   "metadata": {},
   "outputs": [],
   "source": [
    "print(1 + 1)\n",
    "print(2 + 2)    # The result of this expression will appear with or without the print function."
   ]
  },
  {
   "cell_type": "markdown",
   "metadata": {},
   "source": [
    "<br>\n",
    "\n",
    "#### <ins>Comparison Operators</ins>\n",
    "\n",
    "| Operator  | Name                     | Example              |\n",
    "| :-------: | :----------------------: | :------------------: |\n",
    "| ==        | Equal to                 | 2 == 2 returns True  |\n",
    "| !=        | Not equal to             | 4 != 2 returns True  |\n",
    "| >         | Greater than             | 2 > 3 returns False  |\n",
    "| >=        | Greater than or equal to | 4 >= 2 returns True  |\n",
    "| <         | Less than                | 7 < 2 returns False  |\n",
    "| <=        | Less than or equal to    | 8 <= 8 returns True  |"
   ]
  },
  {
   "cell_type": "markdown",
   "metadata": {},
   "source": [
    "Except for `==` and `!=`, these symbols are the same as the comparison operators used in Excel."
   ]
  },
  {
   "cell_type": "code",
   "execution_count": null,
   "metadata": {},
   "outputs": [],
   "source": [
    "print(10 == 100)\n",
    "print(10 != 100)\n",
    "print(10 > 100)\n",
    "print(10 <= 100)"
   ]
  },
  {
   "cell_type": "markdown",
   "metadata": {},
   "source": [
    "You can use comparison operators to compare the results of arithmetic expressions. \n",
    "\n",
    "Python always evaluates arithmetic expressions before comparison operations."
   ]
  },
  {
   "cell_type": "code",
   "execution_count": null,
   "metadata": {},
   "outputs": [],
   "source": [
    "print(3 + 7 == 10)\n",
    "print( 8 < 21 / 3)\n",
    "print(10 + 2 >= 10 / 2)"
   ]
  },
  {
   "cell_type": "markdown",
   "metadata": {},
   "source": [
    "<br>\n",
    "\n",
    "#### <ins>Boolean Operators</ins>\n",
    "\n",
    "| Operator | Description                                   | Example                      | Precedence |\n",
    "| :------: | :-------------------------------------------: | :--------------------------: | :--------: |\n",
    "| not      | Reverses True and False                       | not 4 < 3 returns True       | 1          |\n",
    "| and      | Returns True if both inputs are true          | 4 > 3 and 3 < 4 returns True | 2          |\n",
    "| or       | Returns True if at least one input is true    | 4 < 3 or 4 > 3 returns True  | 3          |\n",
    "\n",
    "Boolean operators are commonly (though not officially) referred to as \"logical\" operators."
   ]
  },
  {
   "cell_type": "code",
   "execution_count": null,
   "metadata": {},
   "outputs": [],
   "source": [
    "print(10 < 100 and 2 + 3 == 5)    # Python evaluates both comparison operations before 'and'.\n",
    "print(2 + 2 == 3 or 2 + 2 == 4)  # Python evaluates both comparison operations before 'or'."
   ]
  },
  {
   "cell_type": "code",
   "execution_count": null,
   "metadata": {},
   "outputs": [],
   "source": [
    "print(not 2 + 2 == 4)\n",
    "print(2 + 2 == 4 and not 4 - 2 == 2)     # Python evaluates the 'not' operation before 'and'.\n",
    "print(not 2 + 2 == 4 or 4 - 2 == 2)      # Python evaluates the 'not' operation before 'or'."
   ]
  },
  {
   "cell_type": "markdown",
   "metadata": {},
   "source": [
    "<br>\n",
    "\n",
    "#### <ins>Operator Precedence</ins>\n",
    "\n",
    "You can find the official table of Python operator precedence [here](https://docs.python.org/3/reference/expressions.html#operator-precedence).\n",
    "\n",
    "<br>\n",
    "\n",
    "---"
   ]
  },
  {
   "cell_type": "markdown",
   "metadata": {},
   "source": [
    "## **Assignment**\n",
    "\n",
    "#### <ins>The Assignment Operator</ins>\n",
    "\n",
    "| Operator | Description                              | \n",
    "| :------: | :--------------------------------------- | \n",
    "| =        | Binds names (\"identifiers\") and assignable objects |"
   ]
  },
  {
   "cell_type": "markdown",
   "metadata": {},
   "source": [
    "The `=` symbol defines variables by binding names ( or \"identifiers\") and assignable objects."
   ]
  },
  {
   "cell_type": "code",
   "execution_count": null,
   "metadata": {},
   "outputs": [],
   "source": [
    "x = 2          # Syntactically, this is called an assignment statement.\n",
    "print(x)"
   ]
  },
  {
   "cell_type": "markdown",
   "metadata": {},
   "source": [
    "Once defined, variables behave like the objects to which they refer."
   ]
  },
  {
   "cell_type": "code",
   "execution_count": null,
   "metadata": {},
   "outputs": [],
   "source": [
    "print(x + 2)"
   ]
  },
  {
   "cell_type": "markdown",
   "metadata": {},
   "source": [
    "If you follow the `=` symbol with an expression instead of a single value, the interpreter will first evaluate the expression and then bind the result to the identifier."
   ]
  },
  {
   "cell_type": "code",
   "execution_count": null,
   "metadata": {},
   "outputs": [],
   "source": [
    "y = 3 * 4\n",
    "print(y)"
   ]
  },
  {
   "cell_type": "markdown",
   "metadata": {},
   "source": [
    "You can override a previous assignment with a new assignment."
   ]
  },
  {
   "cell_type": "code",
   "execution_count": null,
   "metadata": {},
   "outputs": [],
   "source": [
    "y = 13\n",
    "print(y)"
   ]
  },
  {
   "cell_type": "markdown",
   "metadata": {},
   "source": [
    "Since the interpreter will evaluate an expression to the right of the `=` symbol before assigning the result to the identifier, you can change a variable value relative to itself by including the variable in the expression."
   ]
  },
  {
   "cell_type": "code",
   "execution_count": null,
   "metadata": {},
   "outputs": [],
   "source": [
    "y = y + 1\n",
    "print(y)"
   ]
  },
  {
   "cell_type": "markdown",
   "metadata": {},
   "source": [
    "<br>\n",
    "\n",
    "#### <ins>Augmented Assignment Operators</ins>\n",
    "\n",
    "| Operator | Description                              | \n",
    "| :------: | :--------------------------------------- | \n",
    "| +=       | Increases the value of the preceding variable by the value of the following expression |\n",
    "| -=       | Decreases the value of the preceding variable by the value of the following expression |\n",
    "| *=       | Multiplies the value of the preceding variable by the value of the following expression |\n",
    "| /=       | Divides the value of the preceding variable by the value of the following expression |\n",
    "| **=       | Raises the value of the preceding variable to the power of the value of the following expression |\n",
    "\n",
    "Augmented assignment operators provide shorthand (\"syntactic sugar\") for relative changes to the value of a variable."
   ]
  },
  {
   "cell_type": "code",
   "execution_count": null,
   "metadata": {},
   "outputs": [],
   "source": [
    "y += 1          # This statement is equivalent to y = y + 1\n",
    "print(y)"
   ]
  },
  {
   "cell_type": "markdown",
   "metadata": {},
   "source": [
    "<br>\n",
    "\n",
    "#### <ins>Multiple Assignment</ins>\n",
    "\n",
    "Although there is nothing wrong with writing multiple assignment statements to create multiple variables..."
   ]
  },
  {
   "cell_type": "code",
   "execution_count": null,
   "metadata": {},
   "outputs": [],
   "source": [
    "a = 10\n",
    "b = 20\n",
    "\n",
    "print(a)\n",
    "print(b)"
   ]
  },
  {
   "cell_type": "markdown",
   "metadata": {},
   "source": [
    "...Python also allows multiple assignments in a single line:"
   ]
  },
  {
   "cell_type": "code",
   "execution_count": null,
   "metadata": {},
   "outputs": [],
   "source": [
    "c, d = 30, 40\n",
    "\n",
    "print(c)\n",
    "print(d)"
   ]
  },
  {
   "cell_type": "markdown",
   "metadata": {},
   "source": [
    "If assignments involve complex expressions, you may still prefer to write them on separate lines for clarity."
   ]
  },
  {
   "cell_type": "markdown",
   "metadata": {},
   "source": [
    "<br>\n",
    "\n",
    "#### <ins>Naming Conventions</ins>\n",
    "\n",
    "Names should be descriptive.\n"
   ]
  },
  {
   "cell_type": "code",
   "execution_count": null,
   "metadata": {},
   "outputs": [],
   "source": [
    "# For example, if you were using Python to calculate a company's gross margin, instead of this...\n",
    "\n",
    "r = 1483\n",
    "c = 952\n",
    "gp = r - c\n",
    "gm = gp / r\n",
    "\n",
    "# ...it would normally be better to do this:\n",
    "\n",
    "revenue = 1483\n",
    "cost_of_goods_sold = 952\n",
    "gross_profit = revenue - cost_of_goods_sold\n",
    "gross_margin = gross_profit / revenue\n",
    "\n",
    "# If you and your coworkers will recognize \"cogs\" as an abbreviation for cost of goods sold, there\n",
    "# is nothing wrong with using that abbreviation as your variable name. As long as a name clearly\n",
    "# communicates the meaning of the variable, then it is a good name. "
   ]
  },
  {
   "cell_type": "markdown",
   "metadata": {},
   "source": [
    "Names must be one unbroken string of characters. Spaces in names will cause the interpreter to raise an error."
   ]
  },
  {
   "cell_type": "code",
   "execution_count": 2,
   "metadata": {},
   "outputs": [
    {
     "ename": "SyntaxError",
     "evalue": "invalid syntax (2166751006.py, line 1)",
     "output_type": "error",
     "traceback": [
      "\u001b[0;36m  Cell \u001b[0;32mIn[2], line 1\u001b[0;36m\u001b[0m\n\u001b[0;31m    gross margin = gross_profit / revenue\u001b[0m\n\u001b[0m          ^\u001b[0m\n\u001b[0;31mSyntaxError\u001b[0m\u001b[0;31m:\u001b[0m invalid syntax\n"
     ]
    }
   ],
   "source": [
    "gross margin = gross_profit / revenue"
   ]
  },
  {
   "cell_type": "markdown",
   "metadata": {},
   "source": [
    "For this reason, Python programmers use two main naming conventions to distinguish different words contained in the same name.\n",
    "\n",
    "Variables and functions are normally named in lower-case with words separated by underscores:"
   ]
  },
  {
   "cell_type": "code",
   "execution_count": 9,
   "metadata": {},
   "outputs": [],
   "source": [
    "commission_percentage = 0.15            # This convention is sometimes called \"snake case\"."
   ]
  },
  {
   "cell_type": "markdown",
   "metadata": {},
   "source": [
    "Classes (which we will discuss later) are normally named with the first letter of each word capitalized:"
   ]
  },
  {
   "cell_type": "code",
   "execution_count": 10,
   "metadata": {},
   "outputs": [],
   "source": [
    "class StockData:                        # This convention is sometimes called \"UpperCamelCase\".\n",
    "    def __init__(self, price, beta):\n",
    "        self.price = price\n",
    "        self.beta = beta\n",
    "\n"
   ]
  },
  {
   "cell_type": "markdown",
   "metadata": {},
   "source": [
    "<br>\n",
    "\n",
    "#### <ins>Keywords</ins>\n",
    "\n",
    "Keywords are reserved names (e.g. the `not`, `and`, and `or` operators) which cannot be re-assigned by users."
   ]
  },
  {
   "cell_type": "code",
   "execution_count": 11,
   "metadata": {},
   "outputs": [
    {
     "ename": "SyntaxError",
     "evalue": "invalid syntax (1222312479.py, line 1)",
     "output_type": "error",
     "traceback": [
      "\u001b[0;36m  Cell \u001b[0;32mIn[11], line 1\u001b[0;36m\u001b[0m\n\u001b[0;31m    and = 2 + 2\u001b[0m\n\u001b[0m    ^\u001b[0m\n\u001b[0;31mSyntaxError\u001b[0m\u001b[0;31m:\u001b[0m invalid syntax\n"
     ]
    }
   ],
   "source": [
    "and = 2 + 2"
   ]
  },
  {
   "cell_type": "markdown",
   "metadata": {},
   "source": [
    "Python includes 35 keywords which serve a variety of purposes. We will discuss some (but not all) of these keywords later in this class. You can find the full list [here](https://docs.python.org/3/reference/lexical_analysis.html#keywords).\n",
    "\n",
    "<br>"
   ]
  },
  {
   "cell_type": "markdown",
   "metadata": {},
   "source": [
    "---\n",
    "\n",
    "## **Functions**\n",
    "\n",
    "#### <ins>Functions Are Analogous to Operators</ins>\n",
    "\n",
    "x\n",
    "\n",
    "<br>\n",
    "\n",
    "#### <ins>Arguments</ins>\n",
    "\n",
    "x\n",
    "\n",
    "<br>"
   ]
  },
  {
   "cell_type": "markdown",
   "metadata": {},
   "source": [
    "[Functions are analogous to operators in that they effect a transformation.]\n",
    "\n",
    "[In most cases, functions convert at least one input into some output.]\n",
    "\n",
    "[Syntactically, a function name followed by parentheses is a function call.]\n",
    "\n",
    "[Functions in Python are similar to functions in Excel.]\n",
    "\n",
    "[An [expression] inserted in-between the parentheses in a function call is an argument.]\n"
   ]
  },
  {
   "cell_type": "code",
   "execution_count": 12,
   "metadata": {},
   "outputs": [
    {
     "ename": "TypeError",
     "evalue": "type() takes 1 or 3 arguments",
     "output_type": "error",
     "traceback": [
      "\u001b[0;31m---------------------------------------------------------------------------\u001b[0m",
      "\u001b[0;31mTypeError\u001b[0m                                 Traceback (most recent call last)",
      "Cell \u001b[0;32mIn[12], line 1\u001b[0m\n\u001b[0;32m----> 1\u001b[0m \u001b[38;5;28;43mtype\u001b[39;49m\u001b[43m(\u001b[49m\u001b[43m)\u001b[49m\n",
      "\u001b[0;31mTypeError\u001b[0m: type() takes 1 or 3 arguments"
     ]
    }
   ],
   "source": [
    "type()"
   ]
  },
  {
   "cell_type": "markdown",
   "metadata": {},
   "source": [
    "---\n",
    "\n",
    "## **Types**\n",
    "\n",
    "#### <ins>[Subsection Header]</ins>\n",
    "\n",
    "x\n",
    "\n",
    "<br>\n",
    "\n",
    "#### <ins>[Methods}</ins>\n",
    "\n",
    "x"
   ]
  },
  {
   "cell_type": "markdown",
   "metadata": {},
   "source": [
    "---"
   ]
  },
  {
   "cell_type": "markdown",
   "metadata": {},
   "source": [
    "[After introducing lists, introduce the membership operator, 'in'.]\n",
    "\n",
    "[Lists provide a good opportunity to demonstrate the distinction between syntax, semantics, and implementation.]"
   ]
  },
  {
   "cell_type": "markdown",
   "metadata": {},
   "source": [
    "[next, assignment, including augmented assignment and multiple assignment]\n",
    "\n",
    "[Then, demonstrate that new values cannot be assigned to keywords]"
   ]
  },
  {
   "cell_type": "markdown",
   "metadata": {},
   "source": [
    "---\n",
    "\n",
    "<ins>*Note to Self:*</ins>\n",
    "\n",
    "*Define the term \"expression\"*\n",
    "\n",
    "*Define the term \"argument\".*\n",
    "\n",
    "*I should mention that spaces in expressions are not significant, but there is a convention to guide their use.*\n",
    "\n",
    "*I could demonstrate that the print function can receive multiple arguments delimited by commas.*\n",
    "\n",
    "*I could demonstrate keyword arguments using sep.*\n",
    "\n",
    "*I could demonstrate using help() on print.*\n",
    "\n",
    "*Eventually, I will introduce the type() function as well as integers and floats.*\n",
    "\n",
    "*Then, I can demonstrate that operations only work on a limited set of object types (e.g. 2 + print)*\n",
    "\n",
    "---"
   ]
  },
  {
   "cell_type": "markdown",
   "metadata": {},
   "source": [
    "Operator Precedence Link:\n",
    "\n",
    "https://docs.python.org/3/reference/expressions.html#operator-precedence"
   ]
  },
  {
   "cell_type": "markdown",
   "metadata": {},
   "source": []
  }
 ],
 "metadata": {
  "kernelspec": {
   "display_name": "Python 3",
   "language": "python",
   "name": "python3"
  },
  "language_info": {
   "codemirror_mode": {
    "name": "ipython",
    "version": 3
   },
   "file_extension": ".py",
   "mimetype": "text/x-python",
   "name": "python",
   "nbconvert_exporter": "python",
   "pygments_lexer": "ipython3",
   "version": "3.10.13"
  }
 },
 "nbformat": 4,
 "nbformat_minor": 2
}
